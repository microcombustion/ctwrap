{
 "cells": [
  {
   "cell_type": "markdown",
   "metadata": {},
   "source": [
    "# Parser Example\n",
    "\n",
    "A brief tutorial for the `ctwrap.Parser` object, which parses YAML defined quantities within simulation modules (and also handles unit conversions)."
   ]
  },
  {
   "cell_type": "code",
   "execution_count": 1,
   "metadata": {},
   "outputs": [],
   "source": [
    "from ruamel import yaml\n",
    "from ctwrap import Parser"
   ]
  },
  {
   "cell_type": "markdown",
   "metadata": {},
   "source": [
    "### 1. Load a YAML File"
   ]
  },
  {
   "cell_type": "code",
   "execution_count": 2,
   "metadata": {},
   "outputs": [],
   "source": [
    "# load configuration from a yaml file\n",
    "with open('../../yaml/ignition.yaml') as yml:\n",
    "    data = yaml.load(yml, Loader=yaml.SafeLoader)\n",
    "    \n",
    "config = data['defaults']"
   ]
  },
  {
   "cell_type": "code",
   "execution_count": 3,
   "metadata": {},
   "outputs": [
    {
     "data": {
      "text/plain": [
       "{'initial': {'T': [1000.0, 'kelvin', 'initial temperature'],\n",
       "  'P': [1.0, 'atmosphere', 'pressure'],\n",
       "  'phi': [1.0, 'dimensionless', 'equivalence ratio'],\n",
       "  'fuel': 'H2',\n",
       "  'oxidizer': 'O2:1,AR:3.76'},\n",
       " 'chemistry': {'mechanism': 'h2o2.xml'},\n",
       " 'simulation': {'delta_t': 1e-05,\n",
       "  'n_points': 500,\n",
       "  'atol': 1e-15,\n",
       "  'rtol': 1e-09}}"
      ]
     },
     "execution_count": 3,
     "metadata": {},
     "output_type": "execute_result"
    }
   ],
   "source": [
    "# this is a conventional dictionary (two levels)\n",
    "config"
   ]
  },
  {
   "cell_type": "markdown",
   "metadata": {},
   "source": [
    "### 2. Create Parser Object"
   ]
  },
  {
   "cell_type": "code",
   "execution_count": 4,
   "metadata": {},
   "outputs": [
    {
     "data": {
      "text/plain": [
       "{'T': [1000.0, 'kelvin', 'initial temperature'], 'P': [1.0, 'atmosphere', 'pressure'], 'phi': [1.0, 'dimensionless', 'equivalence ratio'], 'fuel': 'H2', 'oxidizer': 'O2:1,AR:3.76'}"
      ]
     },
     "execution_count": 4,
     "metadata": {},
     "output_type": "execute_result"
    }
   ],
   "source": [
    "# a parser object takes a dictionary as input\n",
    "initial = Parser(config['initial'])\n",
    "initial"
   ]
  },
  {
   "cell_type": "code",
   "execution_count": 5,
   "metadata": {},
   "outputs": [
    {
     "data": {
      "text/plain": [
       "dict_keys(['T', 'P', 'phi', 'fuel', 'oxidizer'])"
      ]
     },
     "execution_count": 5,
     "metadata": {},
     "output_type": "execute_result"
    }
   ],
   "source": [
    "# and still acts much like a dictionary\n",
    "initial.keys()"
   ]
  },
  {
   "cell_type": "markdown",
   "metadata": {},
   "source": [
    "### 3. Access Values with Units\n",
    "\n",
    "Unit manipulations are based on the Python package `pint`"
   ]
  },
  {
   "cell_type": "code",
   "execution_count": 6,
   "metadata": {},
   "outputs": [
    {
     "data": {
      "text/plain": [
       "(1000.0 <Unit('kelvin')>,\n",
       " 1.0 <Unit('standard_atmosphere')>,\n",
       " 1.0 <Unit('dimensionless')>)"
      ]
     },
     "execution_count": 6,
     "metadata": {},
     "output_type": "execute_result"
    }
   ],
   "source": [
    "# as dictionary items\n",
    "initial['T'], initial['P'], initial['phi']"
   ]
  },
  {
   "cell_type": "code",
   "execution_count": 7,
   "metadata": {},
   "outputs": [
    {
     "data": {
      "text/plain": [
       "(1000.0 <Unit('kelvin')>,\n",
       " 1.0 <Unit('standard_atmosphere')>,\n",
       " 1.0 <Unit('dimensionless')>)"
      ]
     },
     "execution_count": 7,
     "metadata": {},
     "output_type": "execute_result"
    }
   ],
   "source": [
    "# as attributes\n",
    "initial.T, initial.P, initial.phi"
   ]
  },
  {
   "cell_type": "code",
   "execution_count": 8,
   "metadata": {},
   "outputs": [
    {
     "data": {
      "text/html": [
       "101325.0 pascal"
      ],
      "text/latex": [
       "$101325.0\\ \\mathrm{pascal}$"
      ],
      "text/plain": [
       "101325.0 <Unit('pascal')>"
      ]
     },
     "execution_count": 8,
     "metadata": {},
     "output_type": "execute_result"
    }
   ],
   "source": [
    "# convert to desired unit\n",
    "initial.P.to('pascal')"
   ]
  },
  {
   "cell_type": "code",
   "execution_count": 9,
   "metadata": {},
   "outputs": [
    {
     "data": {
      "text/plain": [
       "101325.0"
      ]
     },
     "execution_count": 9,
     "metadata": {},
     "output_type": "execute_result"
    }
   ],
   "source": [
    "# convert to desired unit (magnitude)\n",
    "initial.P.m_as('pascal')"
   ]
  },
  {
   "cell_type": "markdown",
   "metadata": {},
   "source": [
    "### 4. Access Values without Units"
   ]
  },
  {
   "cell_type": "code",
   "execution_count": 10,
   "metadata": {},
   "outputs": [
    {
     "data": {
      "text/plain": [
       "('H2', 'O2:1,AR:3.76')"
      ]
     },
     "execution_count": 10,
     "metadata": {},
     "output_type": "execute_result"
    }
   ],
   "source": [
    "# values that do not have units\n",
    "initial.fuel, initial.oxidizer"
   ]
  },
  {
   "cell_type": "markdown",
   "metadata": {},
   "source": [
    "### 5. Access Raw Values"
   ]
  },
  {
   "cell_type": "code",
   "execution_count": 11,
   "metadata": {},
   "outputs": [
    {
     "data": {
      "text/plain": [
       "[1.0, 'atmosphere', 'pressure']"
      ]
     },
     "execution_count": 11,
     "metadata": {},
     "output_type": "execute_result"
    }
   ],
   "source": [
    "initial.raw['P']"
   ]
  },
  {
   "cell_type": "code",
   "execution_count": 12,
   "metadata": {},
   "outputs": [
    {
     "data": {
      "text/plain": [
       "'O2:1,AR:3.76'"
      ]
     },
     "execution_count": 12,
     "metadata": {},
     "output_type": "execute_result"
    }
   ],
   "source": [
    "initial.raw['oxidizer']"
   ]
  },
  {
   "cell_type": "code",
   "execution_count": null,
   "metadata": {},
   "outputs": [],
   "source": []
  }
 ],
 "metadata": {
  "kernelspec": {
   "display_name": "Python 3",
   "language": "python",
   "name": "python3"
  },
  "language_info": {
   "codemirror_mode": {
    "name": "ipython",
    "version": 3
   },
   "file_extension": ".py",
   "mimetype": "text/x-python",
   "name": "python",
   "nbconvert_exporter": "python",
   "pygments_lexer": "ipython3",
   "version": "3.7.8"
  }
 },
 "nbformat": 4,
 "nbformat_minor": 2
}