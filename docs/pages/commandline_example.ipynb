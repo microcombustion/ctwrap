{
 "cells": [
  {
   "cell_type": "markdown",
   "metadata": {},
   "source": [
    "# Running Simulations from the Commandline\n",
    "\n",
    "All inputs are specified in YAML configuration files.\n",
    "\n",
    "Example makes are run on the command line within jupyter (using [system magic](https://ipython.readthedocs.io/en/stable/interactive/magics.html#magic-system) via `!`)"
   ]
  },
  {
   "cell_type": "markdown",
   "metadata": {},
   "source": [
    "## 1. Help"
   ]
  },
  {
   "cell_type": "code",
   "execution_count": 1,
   "metadata": {},
   "outputs": [
    {
     "name": "stdout",
     "output_type": "stream",
     "text": [
      "usage: ctwrap [-h] [--output OUTPUT] [-v] [--parallel] module_name yaml_config\r\n",
      "\r\n",
      "Simulation of constant pressure ignition (ctwrap).\r\n",
      "\r\n",
      "positional arguments:\r\n",
      "  module_name      wrapped module (specifies Python import path as\r\n",
      "                   <module_name> or ctwrap.modules.<module_name>)\r\n",
      "  yaml_config      yaml configuration file\r\n",
      "\r\n",
      "optional arguments:\r\n",
      "  -h, --help       show this help message and exit\r\n",
      "  --output OUTPUT  name of output file\r\n",
      "  -v, --verbosity  verbosity level\r\n",
      "  --parallel       run parallel calculations\r\n"
     ]
    }
   ],
   "source": [
    "# display help \n",
    "! ctwrap --help"
   ]
  },
  {
   "cell_type": "markdown",
   "metadata": {},
   "source": [
    "## 2. `minimal` Module"
   ]
  },
  {
   "cell_type": "code",
   "execution_count": 2,
   "metadata": {},
   "outputs": [
    {
     "name": "stdout",
     "output_type": "stream",
     "text": [
      "    - `minimal`: sleeping for 0.4 seconds ...\n",
      "    - `minimal`: sleeping for 0.6 seconds ...\n",
      "    - `minimal`: sleeping for 0.8 seconds ...\n",
      "    - `minimal`: sleeping for 1.0 seconds ...\n",
      "    - `minimal`: sleeping for 1.2 seconds ...\n",
      "    - `minimal`: sleeping for 1.4 seconds ...\n",
      "    - `minimal`: sleeping for 1.6 seconds ...\n",
      "    - `minimal`: sleeping for 1.8 seconds ...\n",
      "CPU times: user 329 ms, sys: 61.2 ms, total: 391 ms\n",
      "Wall time: 9.53 s\n"
     ]
    }
   ],
   "source": [
    "%%time\n",
    "# run minimal module \n",
    "! ctwrap minimal ../../yaml/minimal.yaml"
   ]
  },
  {
   "cell_type": "code",
   "execution_count": 3,
   "metadata": {},
   "outputs": [
    {
     "name": "stdout",
     "output_type": "stream",
     "text": [
      "    - `minimal`: sleeping for 0.4 seconds ...\n",
      "Process Process-2:\n",
      "Traceback (most recent call last):\n",
      "  File \"/home/ischoegl/.pyenv/versions/miniconda3-latest/envs/ctwrap/lib/python3.7/multiprocessing/process.py\", line 297, in _bootstrap\n",
      "    self.run()\n",
      "  File \"/home/ischoegl/.pyenv/versions/miniconda3-latest/envs/ctwrap/lib/python3.7/multiprocessing/process.py\", line 99, in run\n",
      "    self._target(*self._args, **self._kwargs)\n",
      "  File \"/work/GitHub/ctwrap/ctwrap/simulation.py\", line 695, in worker\n",
      "    obj._save_metadata(metadata)\n",
      "UnboundLocalError: local variable 'obj' referenced before assignment\n",
      "Process Process-3:\n",
      "Traceback (most recent call last):\n",
      "  File \"/home/ischoegl/.pyenv/versions/miniconda3-latest/envs/ctwrap/lib/python3.7/multiprocessing/process.py\", line 297, in _bootstrap\n",
      "    self.run()\n",
      "  File \"/home/ischoegl/.pyenv/versions/miniconda3-latest/envs/ctwrap/lib/python3.7/multiprocessing/process.py\", line 99, in run\n",
      "    self._target(*self._args, **self._kwargs)\n",
      "  File \"/work/GitHub/ctwrap/ctwrap/simulation.py\", line 695, in worker\n",
      "    obj._save_metadata(metadata)\n",
      "UnboundLocalError: local variable 'obj' referenced before assignment\n",
      "    - `minimal`: sleeping for 0.6 seconds ...\n",
      "    - `minimal`: sleeping for 0.8 seconds ...\n",
      "    - `minimal`: sleeping for 1.0 seconds ...\n",
      "    - `minimal`: sleeping for 1.2 seconds ...\n",
      "    - `minimal`: sleeping for 1.4 seconds ...\n",
      "    - `minimal`: sleeping for 1.6 seconds ...\n",
      "    - `minimal`: sleeping for 1.8 seconds ...\n",
      "CPU times: user 109 ms, sys: 25.2 ms, total: 135 ms\n",
      "Wall time: 3.58 s\n"
     ]
    }
   ],
   "source": [
    "%%time\n",
    "# run minimal module\n",
    "! ctwrap minimal ../../yaml/minimal.yaml --parallel"
   ]
  },
  {
   "cell_type": "markdown",
   "metadata": {},
   "source": [
    "## 3. `ignition` Module"
   ]
  },
  {
   "cell_type": "code",
   "execution_count": 4,
   "metadata": {},
   "outputs": [
    {
     "name": "stdout",
     "output_type": "stream",
     "text": [
      "################################################################################\n",
      "Running simulations: module `ctwrap.modules.ignition`\n",
      "Conditions specified in `../../yaml/ignition.yaml` \n",
      "################################################################################\n",
      "Simulations for entry `initial.phi` with values: [0.4, 0.6, 0.8, 1.0, 1.2, 1.4, 1.6, 1.8]\n",
      " * processing `initial.phi_0.4`\n",
      " * processing `initial.phi_0.6`\n",
      " * processing `initial.phi_0.8`\n",
      " * processing `initial.phi_1.0`\n",
      " * processing `initial.phi_1.2`\n",
      " * processing `initial.phi_1.4`\n",
      " * processing `initial.phi_1.6`\n",
      " * processing `initial.phi_1.8`\n",
      "CPU times: user 13.4 ms, sys: 3.11 ms, total: 16.5 ms\n",
      "Wall time: 958 ms\n"
     ]
    }
   ],
   "source": [
    "%%time\n",
    "# run parameter variation\n",
    "! ctwrap ignition ../../yaml/ignition.yaml -v --output ignition_example.h5"
   ]
  },
  {
   "cell_type": "code",
   "execution_count": 5,
   "metadata": {},
   "outputs": [],
   "source": [
    "# delete output file\n",
    "! rm ignition_example.h5"
   ]
  },
  {
   "cell_type": "code",
   "execution_count": 6,
   "metadata": {},
   "outputs": [
    {
     "name": "stdout",
     "output_type": "stream",
     "text": [
      "################################################################################\n",
      "Running simulations: module `ctwrap.modules.ignition`\n",
      "Conditions specified in `../../yaml/ignition.yaml` \n",
      "################################################################################\n",
      "Simulations for entry `initial.phi` with values: [0.4, 0.6, 0.8, 1.0, 1.2, 1.4, 1.6, 1.8]\n",
      " * running simulation using 6 cores\n",
      " * processing `initial.phi_0.4` (Process-1)\n",
      " * processing `initial.phi_0.6` (Process-2)\n",
      " * processing `initial.phi_0.8` (Process-3)\n",
      " * processing `initial.phi_1.0` (Process-4)\n",
      " * processing `initial.phi_1.2` (Process-5)\n",
      " * processing `initial.phi_1.4` (Process-6)\n",
      " * processing `initial.phi_1.6` (Process-1)\n",
      " * processing `initial.phi_1.8` (Process-4)\n",
      "Process Process-3:\n",
      "Process Process-5:\n",
      "Traceback (most recent call last):\n",
      "  File \"/home/ischoegl/.pyenv/versions/miniconda3-latest/envs/ctwrap/lib/python3.7/multiprocessing/process.py\", line 297, in _bootstrap\n",
      "    self.run()\n",
      "  File \"/home/ischoegl/.pyenv/versions/miniconda3-latest/envs/ctwrap/lib/python3.7/multiprocessing/process.py\", line 99, in run\n",
      "    self._target(*self._args, **self._kwargs)\n",
      "  File \"/work/GitHub/ctwrap/ctwrap/simulation.py\", line 687, in worker\n",
      "    obj._save(task=task)\n",
      "  File \"/work/GitHub/ctwrap/ctwrap/simulation.py\", line 164, in _save\n",
      "    with h5py.File(filename, 'r') as hdf:\n",
      "  File \"/home/ischoegl/.pyenv/versions/miniconda3-latest/envs/ctwrap/lib/python3.7/site-packages/h5py/_hl/files.py\", line 427, in __init__\n",
      "    swmr=swmr)\n",
      "  File \"/home/ischoegl/.pyenv/versions/miniconda3-latest/envs/ctwrap/lib/python3.7/site-packages/h5py/_hl/files.py\", line 190, in make_fid\n",
      "    fid = h5f.open(name, flags, fapl=fapl)\n",
      "  File \"h5py/_objects.pyx\", line 54, in h5py._objects.with_phil.wrapper\n",
      "  File \"h5py/_objects.pyx\", line 55, in h5py._objects.with_phil.wrapper\n",
      "  File \"h5py/h5f.pyx\", line 96, in h5py.h5f.open\n",
      "OSError: Unable to open file (unable to lock file, errno = 11, error message = 'Resource temporarily unavailable')\n",
      "Traceback (most recent call last):\n",
      "  File \"/home/ischoegl/.pyenv/versions/miniconda3-latest/envs/ctwrap/lib/python3.7/multiprocessing/process.py\", line 297, in _bootstrap\n",
      "    self.run()\n",
      "  File \"/home/ischoegl/.pyenv/versions/miniconda3-latest/envs/ctwrap/lib/python3.7/multiprocessing/process.py\", line 99, in run\n",
      "    self._target(*self._args, **self._kwargs)\n",
      "  File \"/work/GitHub/ctwrap/ctwrap/simulation.py\", line 687, in worker\n",
      "    obj._save(task=task)\n",
      "  File \"/work/GitHub/ctwrap/ctwrap/simulation.py\", line 164, in _save\n",
      "    with h5py.File(filename, 'r') as hdf:\n",
      "  File \"/home/ischoegl/.pyenv/versions/miniconda3-latest/envs/ctwrap/lib/python3.7/site-packages/h5py/_hl/files.py\", line 427, in __init__\n",
      "    swmr=swmr)\n",
      "  File \"/home/ischoegl/.pyenv/versions/miniconda3-latest/envs/ctwrap/lib/python3.7/site-packages/h5py/_hl/files.py\", line 190, in make_fid\n",
      "    fid = h5f.open(name, flags, fapl=fapl)\n",
      "  File \"h5py/_objects.pyx\", line 54, in h5py._objects.with_phil.wrapper\n",
      "  File \"h5py/_objects.pyx\", line 55, in h5py._objects.with_phil.wrapper\n",
      "  File \"h5py/h5f.pyx\", line 96, in h5py.h5f.open\n",
      "OSError: Unable to open file (unable to lock file, errno = 11, error message = 'Resource temporarily unavailable')\n",
      "Process Process-1:\n",
      "Traceback (most recent call last):\n",
      "  File \"/home/ischoegl/.pyenv/versions/miniconda3-latest/envs/ctwrap/lib/python3.7/multiprocessing/process.py\", line 297, in _bootstrap\n",
      "    self.run()\n",
      "  File \"/home/ischoegl/.pyenv/versions/miniconda3-latest/envs/ctwrap/lib/python3.7/multiprocessing/process.py\", line 99, in run\n",
      "    self._target(*self._args, **self._kwargs)\n",
      "  File \"/work/GitHub/ctwrap/ctwrap/simulation.py\", line 695, in worker\n",
      "    obj._save_metadata(metadata)\n",
      "  File \"/work/GitHub/ctwrap/ctwrap/simulation.py\", line 198, in _save_metadata\n",
      "    save_metadata(self._output, metadata)\n",
      "  File \"/work/GitHub/ctwrap/ctwrap/parser.py\", line 125, in save_metadata\n",
      "    with h5py.File(oname, 'r+') as f:\n",
      "  File \"/home/ischoegl/.pyenv/versions/miniconda3-latest/envs/ctwrap/lib/python3.7/site-packages/h5py/_hl/files.py\", line 427, in __init__\n",
      "    swmr=swmr)\n",
      "  File \"/home/ischoegl/.pyenv/versions/miniconda3-latest/envs/ctwrap/lib/python3.7/site-packages/h5py/_hl/files.py\", line 192, in make_fid\n",
      "    fid = h5f.open(name, h5f.ACC_RDWR, fapl=fapl)\n",
      "  File \"h5py/_objects.pyx\", line 54, in h5py._objects.with_phil.wrapper\n",
      "  File \"h5py/_objects.pyx\", line 55, in h5py._objects.with_phil.wrapper\n",
      "  File \"h5py/h5f.pyx\", line 96, in h5py.h5f.open\n",
      "OSError: Unable to open file (unable to lock file, errno = 11, error message = 'Resource temporarily unavailable')\n",
      "CPU times: user 10.7 ms, sys: 11.6 ms, total: 22.3 ms\n",
      "Wall time: 847 ms\n"
     ]
    }
   ],
   "source": [
    "%%time\n",
    "# run parameter variation\n",
    "! ctwrap ignition ../../yaml/ignition.yaml -v --output ignition_example.h5 --parallel"
   ]
  },
  {
   "cell_type": "markdown",
   "metadata": {},
   "source": [
    "## 4. `adiabatic_flame` Module"
   ]
  },
  {
   "cell_type": "code",
   "execution_count": 7,
   "metadata": {},
   "outputs": [
    {
     "name": "stdout",
     "output_type": "stream",
     "text": [
      "    upstream.phi_0.4: mixture-averaged flamespeed = 0.201060 m/s\n",
      "    upstream.phi_0.4: multi-component flamespeed  = 0.215257 m/s\n",
      "    upstream.phi_0.6: mixture-averaged flamespeed = 0.924044 m/s\n",
      "    upstream.phi_0.6: multi-component flamespeed  = 0.934700 m/s\n",
      "    upstream.phi_0.8: mixture-averaged flamespeed = 1.735115 m/s\n",
      "    upstream.phi_0.8: multi-component flamespeed  = 1.720498 m/s\n",
      "    upstream.phi_1.0: mixture-averaged flamespeed = 2.321981 m/s\n",
      "    upstream.phi_1.0: multi-component flamespeed  = 2.289829 m/s\n",
      "    upstream.phi_1.2: mixture-averaged flamespeed = 2.716008 m/s\n",
      "    upstream.phi_1.2: multi-component flamespeed  = 2.671847 m/s\n",
      "    upstream.phi_1.4: mixture-averaged flamespeed = 2.951058 m/s\n",
      "    upstream.phi_1.4: multi-component flamespeed  = 2.899538 m/s\n",
      "    upstream.phi_1.6: mixture-averaged flamespeed = 3.051440 m/s\n",
      "    upstream.phi_1.6: multi-component flamespeed  = 2.997036 m/s\n",
      "    upstream.phi_1.8: mixture-averaged flamespeed = 3.045362 m/s\n",
      "    upstream.phi_1.8: multi-component flamespeed  = 2.992069 m/s\n",
      "    upstream.phi_2.0: mixture-averaged flamespeed = 2.973848 m/s\n",
      "    upstream.phi_2.0: multi-component flamespeed  = 2.924864 m/s\n",
      "    upstream.phi_2.2: mixture-averaged flamespeed = 2.860112 m/s\n",
      "    upstream.phi_2.2: multi-component flamespeed  = 2.817632 m/s\n",
      "    upstream.phi_2.4: mixture-averaged flamespeed = 2.726691 m/s\n",
      "    upstream.phi_2.4: multi-component flamespeed  = 2.691092 m/s\n",
      "    upstream.phi_2.6: mixture-averaged flamespeed = 2.586446 m/s\n",
      "    upstream.phi_2.6: multi-component flamespeed  = 2.558409 m/s\n",
      "CPU times: user 61.7 ms, sys: 24.8 ms, total: 86.5 ms\n",
      "Wall time: 6.59 s\n"
     ]
    }
   ],
   "source": [
    "%%time\n",
    "# run parameter variation\n",
    "! ctwrap adiabatic_flame ../../yaml/adiabatic_flame.yaml --output adiabatic_flame_example"
   ]
  },
  {
   "cell_type": "code",
   "execution_count": 8,
   "metadata": {},
   "outputs": [],
   "source": [
    "# delete output file\n",
    "!rm adiabatic_flame_example.h5"
   ]
  },
  {
   "cell_type": "code",
   "execution_count": 9,
   "metadata": {},
   "outputs": [
    {
     "name": "stdout",
     "output_type": "stream",
     "text": [
      "    upstream.phi_0.6: mixture-averaged flamespeed = 0.924044 m/s\n",
      "    upstream.phi_0.8: mixture-averaged flamespeed = 1.735115 m/s\n",
      "    upstream.phi_0.6: multi-component flamespeed  = 0.934700 m/s\n",
      "    upstream.phi_0.8: multi-component flamespeed  = 1.720498 m/s\n",
      "    upstream.phi_1.2: mixture-averaged flamespeed = 2.716008 m/s\n",
      "    upstream.phi_1.0: mixture-averaged flamespeed = 2.321981 m/s\n",
      "    upstream.phi_0.4: mixture-averaged flamespeed = 0.201060 m/s\n",
      "    upstream.phi_1.2: multi-component flamespeed  = 2.671847 m/s\n",
      "    upstream.phi_1.0: multi-component flamespeed  = 2.289829 m/s\n",
      "    upstream.phi_1.4: mixture-averaged flamespeed = 2.951058 m/s\n",
      "    upstream.phi_0.4: multi-component flamespeed  = 0.215257 m/s\n",
      "    upstream.phi_1.4: multi-component flamespeed  = 2.899538 m/s\n",
      "    upstream.phi_1.8: mixture-averaged flamespeed = 3.045362 m/s\n",
      "    upstream.phi_1.8: multi-component flamespeed  = 2.992069 m/s\n",
      "    upstream.phi_1.6: mixture-averaged flamespeed = 3.051440 m/s\n",
      "    upstream.phi_1.6: multi-component flamespeed  = 2.997036 m/s\n",
      "    upstream.phi_2.0: mixture-averaged flamespeed = 2.973848 m/s\n",
      "    upstream.phi_2.0: multi-component flamespeed  = 2.924864 m/s\n",
      "    upstream.phi_2.2: mixture-averaged flamespeed = 2.860112 m/s\n",
      "    upstream.phi_2.2: multi-component flamespeed  = 2.817632 m/s\n",
      "    upstream.phi_2.4: mixture-averaged flamespeed = 2.726691 m/s\n",
      "    upstream.phi_2.6: mixture-averaged flamespeed = 2.586446 m/s\n",
      "    upstream.phi_2.4: multi-component flamespeed  = 2.691092 m/s\n",
      "    upstream.phi_2.6: multi-component flamespeed  = 2.558409 m/s\n",
      "CPU times: user 35.1 ms, sys: 8.07 ms, total: 43.2 ms\n",
      "Wall time: 2.17 s\n"
     ]
    }
   ],
   "source": [
    "%%time\n",
    "# run parameter variation\n",
    "! ctwrap adiabatic_flame ../../yaml/adiabatic_flame.yaml --output adiabatic_flame_example.h5 --parallel"
   ]
  },
  {
   "cell_type": "code",
   "execution_count": null,
   "metadata": {},
   "outputs": [],
   "source": []
  }
 ],
 "metadata": {
  "kernelspec": {
   "display_name": "Python 3",
   "language": "python",
   "name": "python3"
  },
  "language_info": {
   "codemirror_mode": {
    "name": "ipython",
    "version": 3
   },
   "file_extension": ".py",
   "mimetype": "text/x-python",
   "name": "python",
   "nbconvert_exporter": "python",
   "pygments_lexer": "ipython3",
   "version": "3.7.8"
  }
 },
 "nbformat": 4,
 "nbformat_minor": 2
}
