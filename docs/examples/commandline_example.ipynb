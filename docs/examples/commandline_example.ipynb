{
 "cells": [
  {
   "cell_type": "markdown",
   "metadata": {},
   "source": [
    "# Running Simulations from the Commandline\n",
    "\n",
    "All inputs are specified in YAML configuration files.\n",
    "\n",
    "Example makes are run on the command line within jupyter (using [system magic](https://ipython.readthedocs.io/en/stable/interactive/magics.html#magic-system) via `!`)"
   ]
  },
  {
   "cell_type": "markdown",
   "metadata": {},
   "source": [
    "## 1. Help"
   ]
  },
  {
   "cell_type": "code",
   "execution_count": 1,
   "metadata": {},
   "outputs": [
    {
     "name": "stdout",
     "output_type": "stream",
     "text": [
      "usage: ctwrap [-h] [--output OUTPUT] [-v] [--parallel] module_name yaml_config\n",
      "\n",
      "Simulation of constant pressure ignition (ctwrap).\n",
      "\n",
      "positional arguments:\n",
      "  module_name      wrapped module (specifies Python import path as\n",
      "                   <module_name> or ctwrap.modules.<module_name>)\n",
      "  yaml_config      yaml configuration file\n",
      "\n",
      "optional arguments:\n",
      "  -h, --help       show this help message and exit\n",
      "  --output OUTPUT  name of output file\n",
      "  -v, --verbosity  verbosity level\n",
      "  --parallel       run parallel calculations\n"
     ]
    }
   ],
   "source": [
    "# display help \n",
    "! ctwrap --help"
   ]
  },
  {
   "cell_type": "markdown",
   "metadata": {},
   "source": [
    "## 2. `minimal` Module"
   ]
  },
  {
   "cell_type": "code",
   "execution_count": 2,
   "metadata": {},
   "outputs": [
    {
     "name": "stdout",
     "output_type": "stream",
     "text": [
      "    - `minimal`: sleeping for 0.4 seconds ...\n",
      "    - `minimal`: sleeping for 0.6 seconds ...\n",
      "    - `minimal`: sleeping for 0.8 seconds ...\n",
      "    - `minimal`: sleeping for 1.0 seconds ...\n",
      "    - `minimal`: sleeping for 1.2 seconds ...\n",
      "    - `minimal`: sleeping for 1.4 seconds ...\n",
      "    - `minimal`: sleeping for 1.6 seconds ...\n",
      "    - `minimal`: sleeping for 1.8 seconds ...\n",
      "Wall time: 10.4 s\n"
     ]
    }
   ],
   "source": [
    "%%time\n",
    "# run minimal module \n",
    "! ctwrap minimal ../../yaml/minimal.yaml"
   ]
  },
  {
   "cell_type": "code",
   "execution_count": 3,
   "metadata": {},
   "outputs": [
    {
     "name": "stdout",
     "output_type": "stream",
     "text": [
      "    - `minimal`: sleeping for 0.4 seconds ...\n",
      "    - `minimal`: sleeping for 1.2 seconds ...\n",
      "    - `minimal`: sleeping for 0.6 seconds ...\n",
      "    - `minimal`: sleeping for 1.4 seconds ...\n",
      "    - `minimal`: sleeping for 0.8 seconds ...\n",
      "    - `minimal`: sleeping for 1.6 seconds ...\n",
      "    - `minimal`: sleeping for 1.0 seconds ...\n",
      "    - `minimal`: sleeping for 1.8 seconds ...\n",
      "Wall time: 6.18 s\n"
     ]
    }
   ],
   "source": [
    "%%time\n",
    "# run minimal module\n",
    "! ctwrap minimal ../../yaml/minimal.yaml --parallel"
   ]
  },
  {
   "cell_type": "markdown",
   "metadata": {},
   "source": [
    "## 3. `ignition` Module"
   ]
  },
  {
   "cell_type": "code",
   "execution_count": 4,
   "metadata": {},
   "outputs": [
    {
     "name": "stdout",
     "output_type": "stream",
     "text": [
      "################################################################################\n",
      "Running simulations: module `ctwrap.modules.ignition`\n",
      "Conditions specified in `../../yaml/ignition.yaml` \n",
      "################################################################################\n",
      "Simulations for entry `initial.phi` with values: [0.4, 0.6, 0.8, 1.0, 1.2, 1.4, 1.6, 1.8]\n",
      " * processing `initial.phi_0.4`\n",
      " * processing `initial.phi_0.6`\n",
      " * processing `initial.phi_0.8`\n",
      " * processing `initial.phi_1.0`\n",
      " * processing `initial.phi_1.2`\n",
      " * processing `initial.phi_1.4`\n",
      " * processing `initial.phi_1.6`\n",
      " * processing `initial.phi_1.8`\n",
      "Wall time: 2.06 s\n"
     ]
    }
   ],
   "source": [
    "%%time\n",
    "# run parameter variation\n",
    "! ctwrap ignition ../../yaml/ignition.yaml -v --output ignition_example.h5"
   ]
  },
  {
   "cell_type": "code",
   "execution_count": 5,
   "metadata": {},
   "outputs": [],
   "source": [
    "# delete output file\n",
    "! rm ignition_example.h5"
   ]
  },
  {
   "cell_type": "code",
   "execution_count": 6,
   "metadata": {},
   "outputs": [
    {
     "name": "stdout",
     "output_type": "stream",
     "text": [
      " * processing `initial.phi_1.2` (Process-3)\n",
      " * processing `initial.phi_0.6` (Process-4)\n",
      " * processing `initial.phi_1.4` (Process-4)\n",
      "Wall time: 3.8 s * processing `initial.phi_0.4` (Process-1)\n",
      " * processing `initial.phi_1.0` (Process-1)\n",
      " * processing `initial.phi_1.6` (Process-1)\n",
      " * processing `initial.phi_0.8` (Process-2)\n",
      " * processing `initial.phi_1.8` (Process-2)\n",
      "\n",
      "################################################################################\n",
      "Running simulations: module `ctwrap.modules.ignition`\n",
      "Conditions specified in `../../yaml/ignition.yaml` \n",
      "################################################################################\n",
      "Simulations for entry `initial.phi` with values: [0.4, 0.6, 0.8, 1.0, 1.2, 1.4, 1.6, 1.8]\n",
      " * running simulation using 4 cores\n"
     ]
    }
   ],
   "source": [
    "%%time\n",
    "# run parameter variation\n",
    "! ctwrap ignition ../../yaml/ignition.yaml -v --output ignition_example.h5 --parallel"
   ]
  },
  {
   "cell_type": "markdown",
   "metadata": {},
   "source": [
    "## 4. `adiabatic_flame` Module"
   ]
  },
  {
   "cell_type": "code",
   "execution_count": 7,
   "metadata": {},
   "outputs": [
    {
     "name": "stdout",
     "output_type": "stream",
     "text": [
      "    upstream.phi_0.4: mixture-averaged flamespeed = 0.201060 m/s\n",
      "    upstream.phi_0.4: multi-component flamespeed  = 0.215257 m/s\n",
      "    upstream.phi_0.6: mixture-averaged flamespeed = 0.924044 m/s\n",
      "    upstream.phi_0.6: multi-component flamespeed  = 0.934700 m/s\n",
      "    upstream.phi_0.8: mixture-averaged flamespeed = 1.735115 m/s\n",
      "    upstream.phi_0.8: multi-component flamespeed  = 1.720498 m/s\n",
      "    upstream.phi_1.0: mixture-averaged flamespeed = 2.321981 m/s\n",
      "    upstream.phi_1.0: multi-component flamespeed  = 2.289829 m/s\n",
      "    upstream.phi_1.2: mixture-averaged flamespeed = 2.716008 m/s\n",
      "    upstream.phi_1.2: multi-component flamespeed  = 2.671847 m/s\n",
      "    upstream.phi_1.4: mixture-averaged flamespeed = 2.951058 m/s\n",
      "    upstream.phi_1.4: multi-component flamespeed  = 2.899538 m/s\n",
      "    upstream.phi_1.6: mixture-averaged flamespeed = 3.051440 m/s\n",
      "    upstream.phi_1.6: multi-component flamespeed  = 2.997036 m/s\n",
      "    upstream.phi_1.8: mixture-averaged flamespeed = 3.045362 m/s\n",
      "    upstream.phi_1.8: multi-component flamespeed  = 2.992069 m/s\n",
      "    upstream.phi_2.0: mixture-averaged flamespeed = 2.973848 m/s\n",
      "    upstream.phi_2.0: multi-component flamespeed  = 2.924864 m/s\n",
      "    upstream.phi_2.2: mixture-averaged flamespeed = 2.860112 m/s\n",
      "    upstream.phi_2.2: multi-component flamespeed  = 2.817632 m/s\n",
      "    upstream.phi_2.4: mixture-averaged flamespeed = 2.726691 m/s\n",
      "    upstream.phi_2.4: multi-component flamespeed  = 2.691092 m/s\n",
      "    upstream.phi_2.6: mixture-averaged flamespeed = 2.586446 m/s\n",
      "    upstream.phi_2.6: multi-component flamespeed  = 2.558409 m/s\n",
      "Wall time: 11.6 s\n"
     ]
    }
   ],
   "source": [
    "%%time\n",
    "# run parameter variation\n",
    "! ctwrap adiabatic_flame ../../yaml/adiabatic_flame.yaml --output adiabatic_flame_example"
   ]
  },
  {
   "cell_type": "code",
   "execution_count": 8,
   "metadata": {},
   "outputs": [],
   "source": [
    "# delete output file\n",
    "!rm adiabatic_flame_example.h5"
   ]
  },
  {
   "cell_type": "code",
   "execution_count": 9,
   "metadata": {},
   "outputs": [
    {
     "name": "stdout",
     "output_type": "stream",
     "text": [
      "    upstream.phi_0.6: mixture-averaged flamespeed = 0.924044 m/s\n",
      "    upstream.phi_0.6: multi-component flamespeed  = 0.934700 m/s\n",
      "    upstream.phi_1.2: mixture-averaged flamespeed = 2.716008 m/s\n",
      "    upstream.phi_1.2: multi-component flamespeed  = 2.671847 m/s\n",
      "    upstream.phi_2.0: mixture-averaged flamespeed = 2.973848 m/s\n",
      "    upstream.phi_2.0: multi-component flamespeed  = 2.924864 m/s\n",
      "    upstream.phi_0.8: mixture-averaged flamespeed = 1.735115 m/s\n",
      "    upstream.phi_0.8: multi-component flamespeed  = 1.720498 m/s\n",
      "    upstream.phi_1.4: mixture-averaged flamespeed = 2.951058 m/s\n",
      "    upstream.phi_1.4: multi-component flamespeed  = 2.899538 m/s\n",
      "    upstream.phi_2.2: mixture-averaged flamespeed = 2.860112 m/s\n",
      "    upstream.phi_2.2: multi-component flamespeed  = 2.817632 m/s\n",
      "    upstream.phi_1.0: mixture-averaged flamespeed = 2.321981 m/s\n",
      "    upstream.phi_1.0: multi-component flamespeed  = 2.289829 m/s\n",
      "    upstream.phi_1.6: mixture-averaged flamespeed = 3.051440 m/s\n",
      "    upstream.phi_1.6: multi-component flamespeed  = 2.997036 m/s\n",
      "    upstream.phi_2.4: mixture-averaged flamespeed = 2.726691 m/s\n",
      "    upstream.phi_2.4: multi-component flamespeed  = 2.691092 m/s\n",
      "    upstream.phi_0.4: mixture-averaged flamespeed = 0.201060 m/s\n",
      "    upstream.phi_0.4: multi-component flamespeed  = 0.215257 m/s\n",
      "    upstream.phi_1.8: mixture-averaged flamespeed = 3.045362 m/s\n",
      "    upstream.phi_1.8: multi-component flamespeed  = 2.992069 m/s\n",
      "    upstream.phi_2.6: mixture-averaged flamespeed = 2.586446 m/s\n",
      "    upstream.phi_2.6: multi-component flamespeed  = 2.558409 m/s\n",
      "Wall time: 7.09 s\n"
     ]
    }
   ],
   "source": [
    "%%time\n",
    "# run parameter variation\n",
    "! ctwrap adiabatic_flame ../../yaml/adiabatic_flame.yaml --output adiabatic_flame_example.h5 --parallel"
   ]
  },
  {
   "cell_type": "code",
   "execution_count": null,
   "metadata": {},
   "outputs": [],
   "source": []
  }
 ],
 "metadata": {
  "kernelspec": {
   "display_name": "Python 3",
   "language": "python",
   "name": "python3"
  },
  "language_info": {
   "codemirror_mode": {
    "name": "ipython",
    "version": 3
   },
   "file_extension": ".py",
   "mimetype": "text/x-python",
   "name": "python",
   "nbconvert_exporter": "python",
   "pygments_lexer": "ipython3",
   "version": "3.7.9"
  }
 },
 "nbformat": 4,
 "nbformat_minor": 2
}
